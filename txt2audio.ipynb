{
 "cells": [
  {
   "cell_type": "markdown",
   "id": "b5eb211c",
   "metadata": {},
   "source": [
    "# Text to Audio"
   ]
  },
  {
   "cell_type": "code",
   "execution_count": null,
   "id": "69bee7e1",
   "metadata": {},
   "outputs": [],
   "source": [
    "# First, we install/import the relevant libraries\n",
    "# we need both gtts and playsound libraries to convert text to audio"
   ]
  },
  {
   "cell_type": "code",
   "execution_count": 21,
   "id": "0daf0f2f",
   "metadata": {},
   "outputs": [],
   "source": [
    "#pip install gtts"
   ]
  },
  {
   "cell_type": "code",
   "execution_count": 10,
   "id": "266c1b97",
   "metadata": {},
   "outputs": [],
   "source": [
    "#pip install playsound==1.2.2\n",
    "\n",
    "#Note: In some cases, you may have to install this specific version of playsound -- pip install playsound==1.2.2"
   ]
  },
  {
   "cell_type": "code",
   "execution_count": 16,
   "id": "a09cb732",
   "metadata": {},
   "outputs": [],
   "source": [
    "from gtts import gTTS\n",
    "from playsound import playsound\n",
    "import os"
   ]
  },
  {
   "cell_type": "code",
   "execution_count": 17,
   "id": "5418e6b2",
   "metadata": {},
   "outputs": [],
   "source": [
    "audio = 'myaudio.mp3'"
   ]
  },
  {
   "cell_type": "code",
   "execution_count": 18,
   "id": "284ebb86",
   "metadata": {},
   "outputs": [],
   "source": [
    "language = 'en'"
   ]
  },
  {
   "cell_type": "code",
   "execution_count": 19,
   "id": "5dbb7900",
   "metadata": {},
   "outputs": [],
   "source": [
    "mytext = \"Hi man, this is my first time converting text into audio. isn't it cool?\"\n",
    "text2audio = gTTS (text = mytext, lang = language, slow = False)"
   ]
  },
  {
   "cell_type": "code",
   "execution_count": 20,
   "id": "0ad9ae6f",
   "metadata": {},
   "outputs": [],
   "source": [
    "text2audio.save(audio)\n",
    "playsound(audio)"
   ]
  },
  {
   "cell_type": "code",
   "execution_count": 8,
   "id": "a10597db",
   "metadata": {},
   "outputs": [],
   "source": []
  },
  {
   "cell_type": "code",
   "execution_count": null,
   "id": "6b5a550c",
   "metadata": {},
   "outputs": [],
   "source": []
  },
  {
   "cell_type": "code",
   "execution_count": null,
   "id": "9a9ef217",
   "metadata": {},
   "outputs": [],
   "source": []
  },
  {
   "cell_type": "code",
   "execution_count": null,
   "id": "1fe83327",
   "metadata": {},
   "outputs": [],
   "source": []
  }
 ],
 "metadata": {
  "kernelspec": {
   "display_name": "Python 3 (ipykernel)",
   "language": "python",
   "name": "python3"
  },
  "language_info": {
   "codemirror_mode": {
    "name": "ipython",
    "version": 3
   },
   "file_extension": ".py",
   "mimetype": "text/x-python",
   "name": "python",
   "nbconvert_exporter": "python",
   "pygments_lexer": "ipython3",
   "version": "3.9.12"
  }
 },
 "nbformat": 4,
 "nbformat_minor": 5
}
